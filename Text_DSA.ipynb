{
  "nbformat": 4,
  "nbformat_minor": 0,
  "metadata": {
    "colab": {
      "provenance": [],
      "authorship_tag": "ABX9TyPVH37BPm4k4KyiTC0CglC3",
      "include_colab_link": true
    },
    "kernelspec": {
      "name": "python3",
      "display_name": "Python 3"
    },
    "language_info": {
      "name": "python"
    }
  },
  "cells": [
    {
      "cell_type": "markdown",
      "metadata": {
        "id": "view-in-github",
        "colab_type": "text"
      },
      "source": [
        "<a href=\"https://colab.research.google.com/github/fenny7646/Data_Structures_And_Algorithm/blob/main/Text_DSA.ipynb\" target=\"_parent\"><img src=\"https://colab.research.google.com/assets/colab-badge.svg\" alt=\"Open In Colab\"/></a>"
      ]
    },
    {
      "cell_type": "markdown",
      "source": [
        "# Data Structures"
      ],
      "metadata": {
        "id": "VaAyOH054iXK"
      }
    },
    {
      "cell_type": "markdown",
      "source": [
        "## Abstract DataTypes"
      ],
      "metadata": {
        "id": "xeNOUUgG4k4c"
      }
    },
    {
      "cell_type": "markdown",
      "source": [
        "### Stacks"
      ],
      "metadata": {
        "id": "p1X_G6du4yP4"
      }
    },
    {
      "cell_type": "code",
      "source": [],
      "metadata": {
        "id": "sll-CZvv40zj"
      },
      "execution_count": null,
      "outputs": []
    }
  ]
}