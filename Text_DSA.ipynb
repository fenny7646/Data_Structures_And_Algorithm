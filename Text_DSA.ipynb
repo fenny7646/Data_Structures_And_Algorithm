{
  "nbformat": 4,
  "nbformat_minor": 0,
  "metadata": {
    "colab": {
      "provenance": [],
      "toc_visible": true,
      "collapsed_sections": [
        "p1X_G6du4yP4",
        "7sbKf48C2IfH",
        "h6LLocN_2N0o",
        "PlJNcqafrlq9",
        "E3mAy8dOokrO",
        "dya9i_7Qopje"
      ],
      "authorship_tag": "ABX9TyN1URvALiNkTgN4Ughui4lM",
      "include_colab_link": true
    },
    "kernelspec": {
      "name": "python3",
      "display_name": "Python 3"
    },
    "language_info": {
      "name": "python"
    }
  },
  "cells": [
    {
      "cell_type": "markdown",
      "metadata": {
        "id": "view-in-github",
        "colab_type": "text"
      },
      "source": [
        "<a href=\"https://colab.research.google.com/github/fenny7646/Data_Structures_And_Algorithm/blob/main/Text_DSA.ipynb\" target=\"_parent\"><img src=\"https://colab.research.google.com/assets/colab-badge.svg\" alt=\"Open In Colab\"/></a>"
      ]
    },
    {
      "cell_type": "markdown",
      "source": [
        "# Data Structures"
      ],
      "metadata": {
        "id": "VaAyOH054iXK"
      }
    },
    {
      "cell_type": "markdown",
      "source": [
        "## Abstract DataTypes"
      ],
      "metadata": {
        "id": "xeNOUUgG4k4c"
      }
    },
    {
      "cell_type": "markdown",
      "source": [
        "\n",
        "### Stacks"
      ],
      "metadata": {
        "id": "p1X_G6du4yP4"
      }
    },
    {
      "cell_type": "code",
      "source": [
        "class Stack:\n",
        "  def __init__(self):\n",
        "    self.data = []\n",
        "\n",
        "  def push(self, element):\n",
        "    self.data.append(element)\n",
        "    print(f\"Pushed: {element}\")\n",
        "\n",
        "  def pop(self):\n",
        "    if len(self.data) > 0:\n",
        "      pop_elem = self.data.pop()\n",
        "      print(f\"Popped: {pop_elem}\")\n",
        "      return pop_elem\n",
        "    else: return None\n",
        "\n",
        "  def read(self):\n",
        "    if len(self.data) > 0:\n",
        "      return self.data[-1]\n",
        "    else:\n",
        "      return None"
      ],
      "metadata": {
        "id": "sll-CZvv40zj"
      },
      "execution_count": null,
      "outputs": []
    },
    {
      "cell_type": "code",
      "source": [
        "class Linter:\n",
        "  def __init__(self):\n",
        "    self.stack = Stack()\n",
        "\n",
        "  def lint(self,text):\n",
        "    while self.stack.read():\n",
        "      self.stack.pop()\n",
        "    matching_braces={\"(\":\")\",\"[\":\"]\",\"{\":\"}\"}\n",
        "    for char in text:\n",
        "      if char in matching_braces.keys():\n",
        "        self.stack.push(char)\n",
        "\n",
        "      elif char in matching_braces.values():\n",
        "        if not self.stack.read():\n",
        "          return char + \" does not have opening brace\"\n",
        "        else:\n",
        "          popped_opening_brace = self.stack.pop()\n",
        "          if char != matching_braces.get(popped_opening_brace):\n",
        "            return char +\" has mismatched opening brace\"\n",
        "\n",
        "    if self.stack.read() != None:\n",
        "        return f\"{self.queue[0]} does not have closing brace\"\n",
        "    else:\n",
        "        return \"Stack Empty\"\n",
        "    # Return True if line has no errors:\n",
        "    return True"
      ],
      "metadata": {
        "id": "NmUt9yGp6F0e"
      },
      "execution_count": null,
      "outputs": []
    },
    {
      "cell_type": "code",
      "source": [
        "linter = Linter()"
      ],
      "metadata": {
        "id": "0EPHYYRB8XmK"
      },
      "execution_count": null,
      "outputs": []
    },
    {
      "cell_type": "code",
      "source": [
        "linter.lint(\"(vars={y:[1,2,3]})\")"
      ],
      "metadata": {
        "colab": {
          "base_uri": "https://localhost:8080/"
        },
        "id": "0gD-7CtvmvO1",
        "outputId": "75fee9ba-603a-475c-aa1b-0f406f06f107"
      },
      "execution_count": null,
      "outputs": [
        {
          "output_type": "stream",
          "name": "stdout",
          "text": [
            "Pushed: (\n",
            "Pushed: {\n",
            "Pushed: [\n",
            "Popped: [\n",
            "Popped: {\n",
            "Popped: (\n"
          ]
        },
        {
          "output_type": "execute_result",
          "data": {
            "text/plain": [
              "True"
            ]
          },
          "metadata": {},
          "execution_count": 34
        }
      ]
    },
    {
      "cell_type": "code",
      "source": [
        "linter.lint(\"(vars=y:[1,2,3]})\")"
      ],
      "metadata": {
        "colab": {
          "base_uri": "https://localhost:8080/",
          "height": 105
        },
        "id": "OSt9IWXcmxaV",
        "outputId": "51495969-a103-42cf-e620-93e447fbb34c"
      },
      "execution_count": null,
      "outputs": [
        {
          "output_type": "stream",
          "name": "stdout",
          "text": [
            "Pushed: (\n",
            "Pushed: [\n",
            "Popped: [\n",
            "Popped: (\n"
          ]
        },
        {
          "output_type": "execute_result",
          "data": {
            "text/plain": [
              "'} has mismatched opening brace'"
            ],
            "application/vnd.google.colaboratory.intrinsic+json": {
              "type": "string"
            }
          },
          "metadata": {},
          "execution_count": 35
        }
      ]
    },
    {
      "cell_type": "code",
      "source": [
        "linter.lint(\"(vars={y:[1,2,3]}){\")"
      ],
      "metadata": {
        "colab": {
          "base_uri": "https://localhost:8080/",
          "height": 157
        },
        "id": "ilc1tlSnmyqF",
        "outputId": "d5b03f92-aa6d-4f5e-8667-c63913cab408"
      },
      "execution_count": null,
      "outputs": [
        {
          "output_type": "stream",
          "name": "stdout",
          "text": [
            "Pushed: (\n",
            "Pushed: {\n",
            "Pushed: [\n",
            "Popped: [\n",
            "Popped: {\n",
            "Popped: (\n",
            "Pushed: {\n"
          ]
        },
        {
          "output_type": "execute_result",
          "data": {
            "text/plain": [
              "'{ does not have closing brace'"
            ],
            "application/vnd.google.colaboratory.intrinsic+json": {
              "type": "string"
            }
          },
          "metadata": {},
          "execution_count": 36
        }
      ]
    },
    {
      "cell_type": "code",
      "source": [
        "linter.lint(\"(vars={{y:[1,2,3]})\")"
      ],
      "metadata": {
        "colab": {
          "base_uri": "https://localhost:8080/",
          "height": 157
        },
        "id": "QWlOuzcgpiiQ",
        "outputId": "f39fa7ae-48e7-4537-d827-2d2978928928"
      },
      "execution_count": null,
      "outputs": [
        {
          "output_type": "stream",
          "name": "stdout",
          "text": [
            "Pushed: (\n",
            "Pushed: {\n",
            "Pushed: {\n",
            "Pushed: [\n",
            "Popped: [\n",
            "Popped: {\n",
            "Popped: {\n"
          ]
        },
        {
          "output_type": "execute_result",
          "data": {
            "text/plain": [
              "') has mismatched opening brace'"
            ],
            "application/vnd.google.colaboratory.intrinsic+json": {
              "type": "string"
            }
          },
          "metadata": {},
          "execution_count": 39
        }
      ]
    },
    {
      "cell_type": "markdown",
      "source": [
        "### Queue"
      ],
      "metadata": {
        "id": "h4odeWjeF21c"
      }
    },
    {
      "cell_type": "code",
      "source": [
        "class Queue:\n",
        "  def __init__(self):\n",
        "    self.data = []\n",
        "\n",
        "  def read(self):\n",
        "    if len(self.data) > 0: return self.data[0]\n",
        "    else: return None\n",
        "\n",
        "  def enqueue(self, element):\n",
        "    self.data.append(element)\n",
        "    print(f\"Enqueued: {element}\")\n",
        "\n",
        "  def dequeue(self):\n",
        "    if len(self.data) > 0:\n",
        "      elem_pop = self.data.pop(0)\n",
        "      print(f\"Dequeued: {elem_pop}\")\n",
        "      return elem_pop\n",
        "    else: return None"
      ],
      "metadata": {
        "id": "JNxIVwJUF2Bl"
      },
      "execution_count": null,
      "outputs": []
    },
    {
      "cell_type": "code",
      "source": [
        "class QLinter:\n",
        "  def __init__(self):\n",
        "    self.queue = Queue()\n",
        "\n",
        "  def qlint(self, words):\n",
        "    if not words:\n",
        "      return \"Empty entry\"\n",
        "\n",
        "    while self.queue.read():\n",
        "      self.queue.dequeue(0)\n",
        "\n",
        "    queue_dict = {\"(\":\")\",\"{\":\"}\",\"[\":\"]\"}\n",
        "\n",
        "    for word in words:\n",
        "      if word in queue_dict.keys():\n",
        "        self.queue.enqueue(word)\n",
        "      elif word in queue_dict.values():\n",
        "        if not self.queue.read():\n",
        "          return word + \"doesn't have opening braces\"\n",
        "        else:\n",
        "          popped_opening_brace = self.queue.dequeue()\n",
        "          if word != queue_dict.get(popped_opening_brace):\n",
        "            return word +\"has mismatched opening brace\"\n",
        "\n",
        "    if self.queue.read() != None:\n",
        "      return f\"{self.queue[0]} doesn't have a closing bracket\"\n",
        "    else: return \"Queue\"\n",
        "\n",
        "    return True"
      ],
      "metadata": {
        "id": "v7YBkzLxGqb1"
      },
      "execution_count": null,
      "outputs": []
    },
    {
      "cell_type": "code",
      "source": [
        "qlinter = QLinter()"
      ],
      "metadata": {
        "id": "_vn6zld-p0H4"
      },
      "execution_count": null,
      "outputs": []
    },
    {
      "cell_type": "code",
      "source": [
        "qlinter.qlint(\"(vars={y:[1,2,3)}]\")"
      ],
      "metadata": {
        "colab": {
          "base_uri": "https://localhost:8080/",
          "height": 139
        },
        "id": "tRwrUX9BqAJu",
        "outputId": "e617ae79-3ece-4e29-ae26-f1bd35b83ec4"
      },
      "execution_count": null,
      "outputs": [
        {
          "output_type": "stream",
          "name": "stdout",
          "text": [
            "Enqueued: (\n",
            "Enqueued: {\n",
            "Enqueued: [\n",
            "Dequeued: (\n",
            "Dequeued: {\n",
            "Dequeued: [\n"
          ]
        },
        {
          "output_type": "execute_result",
          "data": {
            "text/plain": [
              "'Queue'"
            ],
            "application/vnd.google.colaboratory.intrinsic+json": {
              "type": "string"
            }
          },
          "metadata": {},
          "execution_count": 6
        }
      ]
    },
    {
      "cell_type": "markdown",
      "source": [],
      "metadata": {
        "id": "qcZNvK0wqAhX"
      }
    },
    {
      "cell_type": "markdown",
      "source": [
        "## Sorting"
      ],
      "metadata": {
        "id": "AMIgaGQjqCNL"
      }
    },
    {
      "cell_type": "markdown",
      "source": [
        "### Bubble Sort"
      ],
      "metadata": {
        "id": "NEBNEp62rhwc"
      }
    },
    {
      "cell_type": "markdown",
      "source": [
        "#### Nested For"
      ],
      "metadata": {
        "id": "7sbKf48C2IfH"
      }
    },
    {
      "cell_type": "code",
      "source": [
        "def bubbler(listr):\n",
        "  for gem in range(len(listr)-1):\n",
        "    for element in range(len(listr) - 1):\n",
        "      if listr[element] > listr[element+1]:\n",
        "        listr[element], listr[element + 1] = listr[element + 1], listr[element]\n",
        "      else:\n",
        "        continue\n",
        "  return listr"
      ],
      "metadata": {
        "id": "HaQeTvEgsBWc"
      },
      "execution_count": 2,
      "outputs": []
    },
    {
      "cell_type": "code",
      "source": [
        "bubbler([2,5,7,4,3])"
      ],
      "metadata": {
        "colab": {
          "base_uri": "https://localhost:8080/"
        },
        "id": "Ynf_NcyO0-8E",
        "outputId": "1add9dd4-91c1-4ff6-9384-0457edd3e168"
      },
      "execution_count": 3,
      "outputs": [
        {
          "output_type": "execute_result",
          "data": {
            "text/plain": [
              "[2, 3, 4, 5, 7]"
            ]
          },
          "metadata": {},
          "execution_count": 3
        }
      ]
    },
    {
      "cell_type": "markdown",
      "source": [
        "#### While | For"
      ],
      "metadata": {
        "id": "h6LLocN_2N0o"
      }
    },
    {
      "cell_type": "code",
      "source": [
        "def tailer(liste):\n",
        "  logger = len(liste) - 1\n",
        "  sort = 0\n",
        "  while sort <= logger:\n",
        "    for elem in range(logger):\n",
        "      if liste[elem] > liste[elem + 1]:\n",
        "        liste[elem], liste[elem + 1] = liste[elem + 1], liste[elem]\n",
        "      else:\n",
        "        continue\n",
        "    sort += 1\n",
        "  return liste"
      ],
      "metadata": {
        "id": "u2D3EI8F2dXX"
      },
      "execution_count": 5,
      "outputs": []
    },
    {
      "cell_type": "code",
      "source": [
        "tailer([3,2,6,4,1])"
      ],
      "metadata": {
        "colab": {
          "base_uri": "https://localhost:8080/"
        },
        "id": "1IJYp0Q62lkA",
        "outputId": "933a3e94-33bf-4b7d-c6ec-42b0daa8448a"
      },
      "execution_count": 6,
      "outputs": [
        {
          "output_type": "execute_result",
          "data": {
            "text/plain": [
              "[1, 2, 3, 4, 6]"
            ]
          },
          "metadata": {},
          "execution_count": 6
        }
      ]
    },
    {
      "cell_type": "markdown",
      "source": [
        "### Selection Sort"
      ],
      "metadata": {
        "id": "PlJNcqafrlq9"
      }
    },
    {
      "cell_type": "markdown",
      "source": [
        "#### Test"
      ],
      "metadata": {
        "id": "E3mAy8dOokrO"
      }
    },
    {
      "cell_type": "code",
      "source": [
        "def selector(linkt):\n",
        "  ranger = len(linkt)-1\n",
        "  lowest_number_idx = 0\n",
        "  for elem_idx in range(ranger):\n",
        "    if linkt[elem_idx] < linkt[lowest_number_idx]:\n",
        "      lowest_number_idx = elem_idx\n",
        "  for content_idx in range(elem_idx+1, len(linkt)):\n",
        "    if linkt[content_idx] < linkt[lowest_number_idx]:\n",
        "      linkt[content_idx],linkt[lowest_number_idx] = linkt[lowest_number_idx],linkt[content_idx]\n",
        "    else:\n",
        "      continue\n",
        "\n",
        "  return linkt"
      ],
      "metadata": {
        "id": "zivfhlQVBMJ2"
      },
      "execution_count": 21,
      "outputs": []
    },
    {
      "cell_type": "code",
      "source": [
        "selector([6,1,4,2,8])"
      ],
      "metadata": {
        "colab": {
          "base_uri": "https://localhost:8080/"
        },
        "id": "Zn_W9rsha_0G",
        "outputId": "8d6a4a0d-5884-4151-e1bb-b0ec71b1129b"
      },
      "execution_count": 22,
      "outputs": [
        {
          "output_type": "execute_result",
          "data": {
            "text/plain": [
              "[6, 1, 4, 2, 8]"
            ]
          },
          "metadata": {},
          "execution_count": 22
        }
      ]
    },
    {
      "cell_type": "markdown",
      "source": [
        "####  Actual"
      ],
      "metadata": {
        "id": "dya9i_7Qopje"
      }
    },
    {
      "cell_type": "code",
      "source": [
        "def selection_sort(linkt):\n",
        "  ranger = len(linkt)\n",
        "  for i in range(ranger):\n",
        "    lowest_number_index = i\n",
        "\n",
        "    for j in range(i+1, ranger):\n",
        "      if linkt[j] < linkt[lowest_number_index]:\n",
        "        print(f\"{linkt} for {linkt[j]} < {linkt[lowest_number_index]} | Current:{linkt[lowest_number_index]} changed to {linkt[j]}\")\n",
        "        lowest_number_index = j\n",
        "\n",
        "    if lowest_number_index != i:\n",
        "      linkt[i],linkt[lowest_number_index]=linkt[lowest_number_index],linkt[i]\n",
        "\n",
        "  return linkt"
      ],
      "metadata": {
        "collapsed": true,
        "id": "KGqVN1T_otId"
      },
      "execution_count": 40,
      "outputs": []
    },
    {
      "cell_type": "code",
      "source": [
        "selection_sort([6,1,4,2,8])"
      ],
      "metadata": {
        "colab": {
          "base_uri": "https://localhost:8080/"
        },
        "id": "PfJEWyamtOb9",
        "outputId": "1e5a767e-a703-44d3-a9fa-15c1c3fa3568"
      },
      "execution_count": 41,
      "outputs": [
        {
          "output_type": "stream",
          "name": "stdout",
          "text": [
            "[6, 1, 4, 2, 8] for 1 < 6 | Current:6 changed to 1\n",
            "[1, 6, 4, 2, 8] for 4 < 6 | Current:6 changed to 4\n",
            "[1, 6, 4, 2, 8] for 2 < 4 | Current:4 changed to 2\n"
          ]
        },
        {
          "output_type": "execute_result",
          "data": {
            "text/plain": [
              "[1, 2, 4, 6, 8]"
            ]
          },
          "metadata": {},
          "execution_count": 41
        }
      ]
    },
    {
      "cell_type": "markdown",
      "source": [
        "### Insertion Sort"
      ],
      "metadata": {
        "id": "bzcPsfR0rsa7"
      }
    },
    {
      "cell_type": "code",
      "source": [
        "def inserter(linkx):\n",
        "  rangex = len(linkx)\n",
        "  lowest_number_idx = 1\n",
        "  for i in range(0, lowest_number_idx):\n",
        "    if linkx[i] < linkx[lowest_number_idx]:\n",
        "  return linkx"
      ],
      "metadata": {
        "id": "FmIitqpqZ3_J"
      },
      "execution_count": null,
      "outputs": []
    },
    {
      "cell_type": "code",
      "source": [
        "inserter([5,3,7,1,8])"
      ],
      "metadata": {
        "id": "ldMidZSCnLs2"
      },
      "execution_count": null,
      "outputs": []
    }
  ]
}