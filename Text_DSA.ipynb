{
  "nbformat": 4,
  "nbformat_minor": 0,
  "metadata": {
    "colab": {
      "provenance": [],
      "authorship_tag": "ABX9TyNXPRzGPXUwlnVzg6fVy9Gk",
      "include_colab_link": true
    },
    "kernelspec": {
      "name": "python3",
      "display_name": "Python 3"
    },
    "language_info": {
      "name": "python"
    }
  },
  "cells": [
    {
      "cell_type": "markdown",
      "metadata": {
        "id": "view-in-github",
        "colab_type": "text"
      },
      "source": [
        "<a href=\"https://colab.research.google.com/github/fenny7646/Data_Structures_And_Algorithm/blob/main/Text_DSA.ipynb\" target=\"_parent\"><img src=\"https://colab.research.google.com/assets/colab-badge.svg\" alt=\"Open In Colab\"/></a>"
      ]
    },
    {
      "cell_type": "markdown",
      "source": [
        "# Data Structures"
      ],
      "metadata": {
        "id": "VaAyOH054iXK"
      }
    },
    {
      "cell_type": "markdown",
      "source": [
        "## Abstract DataTypes"
      ],
      "metadata": {
        "id": "xeNOUUgG4k4c"
      }
    },
    {
      "cell_type": "markdown",
      "source": [
        "### Stacks"
      ],
      "metadata": {
        "id": "p1X_G6du4yP4"
      }
    },
    {
      "cell_type": "code",
      "source": [
        "class Stack:\n",
        "  def __init__(self):\n",
        "    self.data = []\n",
        "\n",
        "  def push(self, element):\n",
        "    self.data.append(element)\n",
        "\n",
        "  def pop(self):\n",
        "    if len(self.data) > 0:\n",
        "      return self.data.pop()\n",
        "\n",
        "  def read(self):\n",
        "    if len(self.data) > 0:\n",
        "      return self.data[-1]"
      ],
      "metadata": {
        "id": "sll-CZvv40zj"
      },
      "execution_count": 23,
      "outputs": []
    },
    {
      "cell_type": "code",
      "source": [
        "class Linter:\n",
        "  def __init__(self):\n",
        "    self.stack = Stack()\n",
        "\n",
        "  def lint(self,text):\n",
        "    while self.stack.read():\n",
        "      self.stack.pop()\n",
        "    matching_braces={\"(\":\")\",\"[\":\"]\",\"{\":\"}\"}\n",
        "    for char in text:\n",
        "\n",
        "      if char in matching_braces.keys():\n",
        "        print(f\"Pushed: {self.stack.push(char)}\")\n",
        "\n",
        "      elif char in matching_braces.values():\n",
        "        if not self.stack.read():\n",
        "          return char + \" does not have opening brace\"\n",
        "        else:\n",
        "          popped_opening_brace = self.stack.pop()\n",
        "          print(f\"Popped: {popped_opening_brace}\")\n",
        "          if char != matching_braces.get(popped_opening_brace):\n",
        "            return char +\" has mismatched opening brace\"\n",
        "\n",
        "    if self.stack.read():\n",
        "        return self.stack.read()+\" does not have closing brace\"\n",
        "    # Return True if line has no errors:\n",
        "    return True"
      ],
      "metadata": {
        "id": "NmUt9yGp6F0e"
      },
      "execution_count": 26,
      "outputs": []
    },
    {
      "cell_type": "code",
      "source": [
        "linter = Linter()\n",
        "linter.lint(\"(vars={y:[1,2,3]})\")"
      ],
      "metadata": {
        "colab": {
          "base_uri": "https://localhost:8080/"
        },
        "id": "0EPHYYRB8XmK",
        "outputId": "2f929022-5a75-4437-85e6-afa57e0b0b0d"
      },
      "execution_count": 27,
      "outputs": [
        {
          "output_type": "stream",
          "name": "stdout",
          "text": [
            "Pushed: None\n",
            "Pushed: None\n",
            "Pushed: None\n",
            "Popped: [\n",
            "Popped: {\n",
            "Popped: (\n"
          ]
        },
        {
          "output_type": "execute_result",
          "data": {
            "text/plain": [
              "True"
            ]
          },
          "metadata": {},
          "execution_count": 27
        }
      ]
    }
  ]
}