{
  "nbformat": 4,
  "nbformat_minor": 0,
  "metadata": {
    "colab": {
      "provenance": [],
      "toc_visible": true,
      "authorship_tag": "ABX9TyMbI43lujXCTDbRvlC4EWT2",
      "include_colab_link": true
    },
    "kernelspec": {
      "name": "python3",
      "display_name": "Python 3"
    },
    "language_info": {
      "name": "python"
    }
  },
  "cells": [
    {
      "cell_type": "markdown",
      "metadata": {
        "id": "view-in-github",
        "colab_type": "text"
      },
      "source": [
        "<a href=\"https://colab.research.google.com/github/fenny7646/Data_Structures_And_Algorithm/blob/main/Text_DSA.ipynb\" target=\"_parent\"><img src=\"https://colab.research.google.com/assets/colab-badge.svg\" alt=\"Open In Colab\"/></a>"
      ]
    },
    {
      "cell_type": "markdown",
      "source": [
        "# Data Structures"
      ],
      "metadata": {
        "id": "VaAyOH054iXK"
      }
    },
    {
      "cell_type": "markdown",
      "source": [
        "## Abstract DataTypes"
      ],
      "metadata": {
        "id": "xeNOUUgG4k4c"
      }
    },
    {
      "cell_type": "markdown",
      "source": [
        "\n",
        "### Stacks"
      ],
      "metadata": {
        "id": "p1X_G6du4yP4"
      }
    },
    {
      "cell_type": "code",
      "source": [
        "class Stack:\n",
        "  def __init__(self):\n",
        "    self.data = []\n",
        "\n",
        "  def push(self, element):\n",
        "    self.data.append(element)\n",
        "    print(f\"Pushed: {element}\")\n",
        "\n",
        "  def pop(self):\n",
        "    if len(self.data) > 0:\n",
        "      pop_elem = self.data.pop()\n",
        "      print(f\"Popped: {pop_elem}\")\n",
        "      return pop_elem\n",
        "    else: return None\n",
        "\n",
        "  def read(self):\n",
        "    if len(self.data) > 0:\n",
        "      return self.data[-1]\n",
        "    else:\n",
        "      return None"
      ],
      "metadata": {
        "id": "sll-CZvv40zj"
      },
      "execution_count": 30,
      "outputs": []
    },
    {
      "cell_type": "code",
      "source": [
        "class Linter:\n",
        "  def __init__(self):\n",
        "    self.stack = Stack()\n",
        "\n",
        "  def lint(self,text):\n",
        "    while self.stack.read():\n",
        "      self.stack.pop()\n",
        "    matching_braces={\"(\":\")\",\"[\":\"]\",\"{\":\"}\"}\n",
        "    for char in text:\n",
        "      if char in matching_braces.keys():\n",
        "        self.stack.push(char)\n",
        "\n",
        "      elif char in matching_braces.values():\n",
        "        if not self.stack.read():\n",
        "          return char + \" does not have opening brace\"\n",
        "        else:\n",
        "          popped_opening_brace = self.stack.pop()\n",
        "          if char != matching_braces.get(popped_opening_brace):\n",
        "            return char +\" has mismatched opening brace\"\n",
        "\n",
        "    if self.stack.read() != None:\n",
        "        return f\"{self.queue[0]} does not have closing brace\"\n",
        "    else:\n",
        "        return \"Stack Empty\"\n",
        "    # Return True if line has no errors:\n",
        "    return True"
      ],
      "metadata": {
        "id": "NmUt9yGp6F0e"
      },
      "execution_count": 31,
      "outputs": []
    },
    {
      "cell_type": "code",
      "source": [
        "linter = Linter()"
      ],
      "metadata": {
        "id": "0EPHYYRB8XmK"
      },
      "execution_count": 33,
      "outputs": []
    },
    {
      "cell_type": "code",
      "source": [
        "linter.lint(\"(vars={y:[1,2,3]})\")"
      ],
      "metadata": {
        "colab": {
          "base_uri": "https://localhost:8080/"
        },
        "id": "0gD-7CtvmvO1",
        "outputId": "75fee9ba-603a-475c-aa1b-0f406f06f107"
      },
      "execution_count": 34,
      "outputs": [
        {
          "output_type": "stream",
          "name": "stdout",
          "text": [
            "Pushed: (\n",
            "Pushed: {\n",
            "Pushed: [\n",
            "Popped: [\n",
            "Popped: {\n",
            "Popped: (\n"
          ]
        },
        {
          "output_type": "execute_result",
          "data": {
            "text/plain": [
              "True"
            ]
          },
          "metadata": {},
          "execution_count": 34
        }
      ]
    },
    {
      "cell_type": "code",
      "source": [
        "linter.lint(\"(vars=y:[1,2,3]})\")"
      ],
      "metadata": {
        "colab": {
          "base_uri": "https://localhost:8080/",
          "height": 105
        },
        "id": "OSt9IWXcmxaV",
        "outputId": "51495969-a103-42cf-e620-93e447fbb34c"
      },
      "execution_count": 35,
      "outputs": [
        {
          "output_type": "stream",
          "name": "stdout",
          "text": [
            "Pushed: (\n",
            "Pushed: [\n",
            "Popped: [\n",
            "Popped: (\n"
          ]
        },
        {
          "output_type": "execute_result",
          "data": {
            "text/plain": [
              "'} has mismatched opening brace'"
            ],
            "application/vnd.google.colaboratory.intrinsic+json": {
              "type": "string"
            }
          },
          "metadata": {},
          "execution_count": 35
        }
      ]
    },
    {
      "cell_type": "code",
      "source": [
        "linter.lint(\"(vars={y:[1,2,3]}){\")"
      ],
      "metadata": {
        "colab": {
          "base_uri": "https://localhost:8080/",
          "height": 157
        },
        "id": "ilc1tlSnmyqF",
        "outputId": "d5b03f92-aa6d-4f5e-8667-c63913cab408"
      },
      "execution_count": 36,
      "outputs": [
        {
          "output_type": "stream",
          "name": "stdout",
          "text": [
            "Pushed: (\n",
            "Pushed: {\n",
            "Pushed: [\n",
            "Popped: [\n",
            "Popped: {\n",
            "Popped: (\n",
            "Pushed: {\n"
          ]
        },
        {
          "output_type": "execute_result",
          "data": {
            "text/plain": [
              "'{ does not have closing brace'"
            ],
            "application/vnd.google.colaboratory.intrinsic+json": {
              "type": "string"
            }
          },
          "metadata": {},
          "execution_count": 36
        }
      ]
    },
    {
      "cell_type": "code",
      "source": [
        "linter.lint(\"(vars={{y:[1,2,3]})\")"
      ],
      "metadata": {
        "colab": {
          "base_uri": "https://localhost:8080/",
          "height": 157
        },
        "id": "QWlOuzcgpiiQ",
        "outputId": "f39fa7ae-48e7-4537-d827-2d2978928928"
      },
      "execution_count": 39,
      "outputs": [
        {
          "output_type": "stream",
          "name": "stdout",
          "text": [
            "Pushed: (\n",
            "Pushed: {\n",
            "Pushed: {\n",
            "Pushed: [\n",
            "Popped: [\n",
            "Popped: {\n",
            "Popped: {\n"
          ]
        },
        {
          "output_type": "execute_result",
          "data": {
            "text/plain": [
              "') has mismatched opening brace'"
            ],
            "application/vnd.google.colaboratory.intrinsic+json": {
              "type": "string"
            }
          },
          "metadata": {},
          "execution_count": 39
        }
      ]
    },
    {
      "cell_type": "markdown",
      "source": [
        "### Queue"
      ],
      "metadata": {
        "id": "h4odeWjeF21c"
      }
    },
    {
      "cell_type": "code",
      "source": [
        "class Queue:\n",
        "  def __init__(self):\n",
        "    self.data = []\n",
        "\n",
        "  def read(self):\n",
        "    if len(self.data) > 0: return self.data[0]\n",
        "    else: return None\n",
        "\n",
        "  def enqueue(self, element):\n",
        "    self.data.append(element)\n",
        "    print(f\"Enqueued: {element}\")\n",
        "\n",
        "  def dequeue(self):\n",
        "    if len(self.data) > 0:\n",
        "      elem_pop = self.data.pop(0)\n",
        "      print(f\"Dequeued: {elem_pop}\")\n",
        "      return elem_pop\n",
        "    else: return None"
      ],
      "metadata": {
        "id": "JNxIVwJUF2Bl"
      },
      "execution_count": 1,
      "outputs": []
    },
    {
      "cell_type": "code",
      "source": [
        "class QLinter:\n",
        "  def __init__(self):\n",
        "    self.queue = Queue()\n",
        "\n",
        "  def qlint(self, words):\n",
        "    if not words:\n",
        "      return \"Empty entry\"\n",
        "\n",
        "    while self.queue.read():\n",
        "      self.queue.dequeue(0)\n",
        "\n",
        "    queue_dict = {\"(\":\")\",\"{\":\"}\",\"[\":\"]\"}\n",
        "\n",
        "    for word in words:\n",
        "      if word in queue_dict.keys():\n",
        "        self.queue.enqueue(word)\n",
        "      elif word in queue_dict.values():\n",
        "        if not self.queue.read():\n",
        "          return word + \"doesn't have opening braces\"\n",
        "        else:\n",
        "          popped_opening_brace = self.queue.dequeue()\n",
        "          if word != queue_dict.get(popped_opening_brace):\n",
        "            return word +\"has mismatched opening brace\"\n",
        "\n",
        "    if self.queue.read() != None:\n",
        "      return f\"{self.queue[0]} doesn't have a closing bracket\"\n",
        "    else: return \"Queue\"\n",
        "\n",
        "    return True"
      ],
      "metadata": {
        "id": "v7YBkzLxGqb1"
      },
      "execution_count": 2,
      "outputs": []
    },
    {
      "cell_type": "code",
      "source": [
        "qlinter = QLinter()"
      ],
      "metadata": {
        "id": "_vn6zld-p0H4"
      },
      "execution_count": 5,
      "outputs": []
    },
    {
      "cell_type": "code",
      "source": [
        "qlinter.qlint(\"(vars={y:[1,2,3)}]\")"
      ],
      "metadata": {
        "colab": {
          "base_uri": "https://localhost:8080/",
          "height": 139
        },
        "id": "tRwrUX9BqAJu",
        "outputId": "e617ae79-3ece-4e29-ae26-f1bd35b83ec4"
      },
      "execution_count": 6,
      "outputs": [
        {
          "output_type": "stream",
          "name": "stdout",
          "text": [
            "Enqueued: (\n",
            "Enqueued: {\n",
            "Enqueued: [\n",
            "Dequeued: (\n",
            "Dequeued: {\n",
            "Dequeued: [\n"
          ]
        },
        {
          "output_type": "execute_result",
          "data": {
            "text/plain": [
              "'Queue'"
            ],
            "application/vnd.google.colaboratory.intrinsic+json": {
              "type": "string"
            }
          },
          "metadata": {},
          "execution_count": 6
        }
      ]
    }
  ]
}